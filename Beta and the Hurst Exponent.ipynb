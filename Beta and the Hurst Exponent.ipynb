{
 "cells": [
  {
   "cell_type": "code",
   "execution_count": 2,
   "metadata": {},
   "outputs": [],
   "source": [
    "import numpy as np\n",
    "from scipy.optimize import curve_fit\n",
    "import matplotlib.pyplot as plt\n",
    "import pandas as pd\n",
    "import HurstEstimator as he"
   ]
  },
  {
   "cell_type": "markdown",
   "metadata": {},
   "source": [
    "# Beta"
   ]
  },
  {
   "cell_type": "markdown",
   "metadata": {},
   "source": [
    "$\\newcommand{\\E}{\\mathrm{E}}$\n",
    "$\\newcommand{\\Var}{\\mathrm{Var}}$\n",
    "$\\newcommand{\\Cov}{\\mathrm{Cov}}$\n",
    "We can see over the 10 year period there is a range of hurst exponents among the stocks and the hurst expoenent estimated isn't easily seen by just examining the graph alone. We see that Apple and Alcoa stocks have the two highest hurst exponents exhibiting very heavy persistence. On the low end we see Pepsi, AT&R, and Exxon exhibiting anti-persistence. What causes this difference? \n",
    "\n",
    "Prima facie XOM, T, Pep are heavy dividend stocks. As of April 11,2020 they have dividend yields of 8%, 6.77%, and 2.86% respectively. So XOM has a below average dividend yield, but is still very anti persistent. So dividend yields do not necessarily explain the Hurst expoenent especially when we condsider JNJ and KO which area also very beloved by divdend minded investors.\n",
    "\n",
    "How does the Hurst exponent compares to other measures, say Beta for instance. Beta is the statistical measure of a given stock that measures how changes in stock price correlate to changes in the overall market. \n",
    "\n",
    "\n",
    "$$\n",
    "\\beta = \\frac{\\Cov(\\Delta \\Gamma, \\Delta \\gamma)}{\\Var(\\Delta \\Gamma)}\n",
    "$$\n",
    "\n",
    "$\\Gamma$ is the price of the aggregate market index and $\\gamma$ is the individual stock.\n",
    "\n",
    "$\\beta$ can change over time (more on that later) just like the hurst exponent so we'll want to estimate it for the period above."
   ]
  },
  {
   "cell_type": "markdown",
   "metadata": {},
   "source": [
    "Furthermore $\\beta$ is the estimated slope of ordinary least squares fit with the market change as an independent variable and the stock change as the dependent variable.\n",
    "\n",
    "As a proxy for the SP500 we can use the spy etf which is designed to track the SP500 and then find the needed statistics. However we need to find the difference between the close and the open and then run a beta function. Pandas does have a covariance matrix function, but instead we will extract specifically the information we need with a little python."
   ]
  },
  {
   "cell_type": "code",
   "execution_count": 10,
   "metadata": {},
   "outputs": [
    {
     "name": "stdout",
     "output_type": "stream",
     "text": [
      "[*********************100%***********************]  13 of 13 completed\n"
     ]
    }
   ],
   "source": [
    "from pandas_datareader import data as pdr\n",
    "import yfinance as yf\n",
    "yf.pdr_override() \n",
    "\n",
    "\n",
    "# We want a new stock set to grab the end and generate a percentage return each day\n",
    "stocks = (\"SPY\", \"MSFT\",\"AAPL\",\"T\",\"DDD\",\"JNJ\",\"KO\",\"Pep\",\"MCD\", \"AA\", \"XOM\", \"GOOG\", \"AMZN\")\n",
    "stocks = sorted(stocks)\n",
    "ST = ' '.join(stocks)\n",
    "data2 = yf.download(ST, start=\"2000-01-01\", end=\"2017-04-30\", index = stocks)\n",
    "data2 = data2[['Open', 'Close']]\n",
    "DailyReturn = (data2.Close - data2.Open)/data2.Open"
   ]
  },
  {
   "cell_type": "code",
   "execution_count": 12,
   "metadata": {},
   "outputs": [
    {
     "data": {
      "text/plain": [
       "Text(0.5, 1.0, 'Estimated Beta')"
      ]
     },
     "execution_count": 12,
     "metadata": {},
     "output_type": "execute_result"
    },
    {
     "data": {
      "image/png": "[encoded data removed]",
      "text/plain": [
       "<Figure size 1080x216 with 1 Axes>"
      ]
     },
     "metadata": {
      "needs_background": "light"
     },
     "output_type": "display_data"
    }
   ],
   "source": [
    "CovMatrix = DailyReturn.cov()\n",
    "SpyVar = CovMatrix.loc['SPY', 'SPY']\n",
    "StockCov = CovMatrix.loc['SPY']\n",
    "Beta = StockCov/SpyVar\n",
    "\n",
    "plt.figure(figsize = (15,3))\n",
    "yy = range(len(Beta))\n",
    "plt.bar(yy,Beta, color = 'c', log=True, width=0.8)\n",
    "plt.axhline(y=1, color='r', linestyle='-')\n",
    "ax = plt.gca()\n",
    "ax.set_xticks(yy)\n",
    "ax.set_xticklabels(stocks)\n",
    "plt.title('Estimated Beta')"
   ]
  },
  {
   "cell_type": "code",
   "execution_count": null,
   "metadata": {},
   "outputs": [],
   "source": [
    "popt, pcov = curve_fit(func,Beta, hurstValues)\n",
    "fig = plt.figure(figsize=(13,7))\n",
    "plt.plot(Beta,hurstValues, 'o')\n",
    "plt.plot(Beta,func(Beta,*popt),'r--',label='Least Squares Regression')\n",
    "plt.title('Estimated Hurst Exponents plotted against Estimated Beta')\n",
    "plt.xlabel('Beta')\n",
    "plt.ylabel('H')\n",
    "plt.legend()"
   ]
  },
  {
   "cell_type": "code",
   "execution_count": null,
   "metadata": {},
   "outputs": [],
   "source": [
    "hurstValues = np.zeros((len(data1.columns),1))\n",
    "for i in range(len(data1.columns)):\n",
    "    xx = data1.iloc[:,[i]]\n",
    "    xx = xx.dropna()\n",
    "    xx = xx.to_numpy()\n",
    "    hurstValues[i] = he.hurstEstimator(xx,10,cumulative=True, graph=False)"
   ]
  },
  {
   "cell_type": "code",
   "execution_count": null,
   "metadata": {},
   "outputs": [],
   "source": [
    "popt, pcov = curve_fit(func,Beta, hurstValues)\n",
    "fig = plt.figure(figsize=(13,7))\n",
    "plt.plot(Beta,hurstValues, 'o')\n",
    "plt.plot(Beta,func(Beta,*popt),'r--',label='Least Squares Regression')\n",
    "plt.title('Estimated Hurst Exponents plotted against Estimated Beta')\n",
    "plt.xlabel('Beta')\n",
    "plt.ylabel('H')\n",
    "plt.legend()"
   ]
  }
 ],
 "metadata": {
  "kernelspec": {
   "display_name": "Python 3",
   "language": "python",
   "name": "python3"
  },
  "language_info": {
   "codemirror_mode": {
    "name": "ipython",
    "version": 3
   },
   "file_extension": ".py",
   "mimetype": "text/x-python",
   "name": "python",
   "nbconvert_exporter": "python",
   "pygments_lexer": "ipython3",
   "version": "3.8.3"
  }
 },
 "nbformat": 4,
 "nbformat_minor": 4
}
